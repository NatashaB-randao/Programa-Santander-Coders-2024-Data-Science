{
 "cells": [
  {
   "cell_type": "markdown",
   "metadata": {},
   "source": [
    "## Transformações Lineares\n",
    "\n",
    "Transformações lineares são funções que mapeiam vetores de um espaço vetorial para outro (ou para ele mesmo), preservando as operações de adição de vetores e multiplicação por escalares. Em outras palavras, se \\(T\\) é uma transformação linear, então para todos os vetores \\( \\mathbf{u} \\) e \\( \\mathbf{v} \\) e escalar \\(c\\), temos:\n",
    "\n",
    "1. T(u+v) = T(u) + T(v)\n",
    "2. T(cu)=cT(u)\n",
    "\n",
    "#### Propriedades das Transformações Lineares:\n",
    "1. **Linearidade**: Como mostrado acima, transformações lineares mantêm a adição de vetores e a multiplicação por escalares.\n",
    "2. **Representação por Matrizes**: Qualquer transformação linear pode ser representada por uma matriz. A aplicação da transformação a um vetor é realizada pela multiplicação da matriz pela coluna que representa o vetor.\n",
    "3. **Transformações Geométricas**: Incluem rotações, reflexões, expansões, contrações e cisalhamentos (shear).\n",
    "\n",
    "#### Exemplos de Transformações Lineares:\n",
    "- **Rotação**: Rotaciona um vetor em um certo ângulo.\n",
    "- **Reflexão**: Reflete um vetor em relação a um eixo.\n",
    "- **Escala**: Aumenta ou diminui o comprimento de um vetor por um fator constante.\n",
    "- **Cisalhamento (Shear)**: Desloca os pontos ao longo de um eixo em proporção a suas distâncias de outro eixo.\n"
   ]
  },
  {
   "cell_type": "code",
   "execution_count": 3,
   "metadata": {},
   "outputs": [],
   "source": [
    "import numpy as np\n",
    "\n",
    "# Função para aplicar transformação e mostrar resultado\n",
    "def apply_transformation(T, vectors):\n",
    "    transformed_vectors = np.dot(T, vectors)\n",
    "    print(\"Transformação aplicada:\")\n",
    "    print(transformed_vectors)\n",
    "\n",
    "# Vetores a serem transformados (colunas da matriz)\n",
    "vectors = np.array([[1, 0], [0, 1]])  # Vetores unitários na base padrão"
   ]
  },
  {
   "cell_type": "code",
   "execution_count": 4,
   "metadata": {},
   "outputs": [
    {
     "name": "stdout",
     "output_type": "stream",
     "text": [
      "Matriz de Rotação de 90 graus:\n",
      "[[ 6.123234e-17 -1.000000e+00]\n",
      " [ 1.000000e+00  6.123234e-17]]\n",
      "Transformação aplicada:\n",
      "[[ 6.123234e-17 -1.000000e+00]\n",
      " [ 1.000000e+00  6.123234e-17]]\n"
     ]
    }
   ],
   "source": [
    "# 1. Rotação de 90 graus\n",
    "theta = np.pi / 2  # Ângulo em radianos\n",
    "rotation_matrix = np.array([[np.cos(theta), -np.sin(theta)], \n",
    "                            [np.sin(theta), np.cos(theta)]])\n",
    "print(\"Matriz de Rotação de 90 graus:\")\n",
    "print(rotation_matrix)\n",
    "apply_transformation(rotation_matrix, vectors)"
   ]
  },
  {
   "cell_type": "code",
   "execution_count": 5,
   "metadata": {},
   "outputs": [
    {
     "name": "stdout",
     "output_type": "stream",
     "text": [
      "\n",
      "Matriz de Reflexão em relação ao eixo x:\n",
      "[[ 1  0]\n",
      " [ 0 -1]]\n",
      "Transformação aplicada:\n",
      "[[ 1  0]\n",
      " [ 0 -1]]\n"
     ]
    }
   ],
   "source": [
    "# 2. Reflexão em relação ao eixo x\n",
    "reflection_matrix = np.array([[1, 0], \n",
    "                            [0, -1]])\n",
    "print(\"\\nMatriz de Reflexão em relação ao eixo x:\")\n",
    "print(reflection_matrix)\n",
    "apply_transformation(reflection_matrix, vectors)"
   ]
  },
  {
   "cell_type": "code",
   "execution_count": 6,
   "metadata": {},
   "outputs": [
    {
     "name": "stdout",
     "output_type": "stream",
     "text": [
      "\n",
      "Matriz de Escala por um fator de 2:\n",
      "[[2 0]\n",
      " [0 2]]\n",
      "Transformação aplicada:\n",
      "[[2 0]\n",
      " [0 2]]\n"
     ]
    }
   ],
   "source": [
    "# 3. Escala por um fator de 2\n",
    "scaling_matrix = np.array([[2, 0], \n",
    "                        [0, 2]])\n",
    "print(\"\\nMatriz de Escala por um fator de 2:\")\n",
    "print(scaling_matrix)\n",
    "apply_transformation(scaling_matrix, vectors)"
   ]
  },
  {
   "cell_type": "code",
   "execution_count": 7,
   "metadata": {},
   "outputs": [
    {
     "name": "stdout",
     "output_type": "stream",
     "text": [
      "\n",
      "Matriz de Cisalhamento horizontal:\n",
      "[[1 1]\n",
      " [0 1]]\n",
      "Transformação aplicada:\n",
      "[[1 1]\n",
      " [0 1]]\n"
     ]
    }
   ],
   "source": [
    "# 4. Cisalhamento (Shear) horizontal\n",
    "shear_matrix = np.array([[1, 1], \n",
    "                        [0, 1]])\n",
    "print(\"\\nMatriz de Cisalhamento horizontal:\")\n",
    "print(shear_matrix)\n",
    "apply_transformation(shear_matrix, vectors)"
   ]
  }
 ],
 "metadata": {
  "kernelspec": {
   "display_name": "Python 3",
   "language": "python",
   "name": "python3"
  },
  "language_info": {
   "codemirror_mode": {
    "name": "ipython",
    "version": 3
   },
   "file_extension": ".py",
   "mimetype": "text/x-python",
   "name": "python",
   "nbconvert_exporter": "python",
   "pygments_lexer": "ipython3",
   "version": "3.12.3"
  }
 },
 "nbformat": 4,
 "nbformat_minor": 2
}
