{
 "cells": [
  {
   "cell_type": "markdown",
   "metadata": {},
   "source": [
    "## Determinantes\n",
    "\n",
    "Os determinantes são números que podem ser calculados a partir de matrizes quadradas (mesmo número de linhas e colunas). Eles fornecem informações importantes sobre a matriz e têm diversas aplicações em álgebra linear, como verificar se uma matriz é invertível ou calcular volumes em geometria.\n",
    "\n",
    "#### Propriedades dos Determinantes:\n",
    "1. **Invertibilidade**: Uma matriz é invertível (ou não singular) se e somente se o seu determinante é diferente de zero.\n",
    "2. **Área e Volume**: Em 2D, o determinante de uma matriz 2x2 representa a área de um paralelogramo formado pelos vetores das colunas da matriz. Em 3D, ele representa o volume de um paralelepípedo.\n",
    "3. **Transformações Lineares**: O determinante de uma matriz que representa uma transformação linear indica o fator pelo qual áreas ou volumes são escalados pela transformação.\n",
    "\n",
    "#### Cálculo de Determinantes:\n",
    "- Para uma matriz 2x2:\n",
    "  ```\n",
    "  |A| = |a b|\n",
    "        |c d|\n",
    "        \n",
    "  det(A) = ad - bc\n",
    "  ```\n",
    "- Para uma matriz 3x3:\n",
    "  ```\n",
    "  |A| = |a b c|\n",
    "        |d e f|\n",
    "        |g h i|\n",
    "        \n",
    "  det(A) = a(ei - fh) - b(di - fg) + c(dh - eg)\n",
    "  ```\n"
   ]
  },
  {
   "cell_type": "code",
   "execution_count": 2,
   "metadata": {},
   "outputs": [
    {
     "name": "stdout",
     "output_type": "stream",
     "text": [
      "Matriz 2x2 (A):\n",
      "[[1 2]\n",
      " [3 4]]\n",
      "Determinante de A: -2.0000000000000004\n"
     ]
    }
   ],
   "source": [
    "# Matriz 2x2\n",
    "\n",
    "import numpy as np\n",
    "\n",
    "A_2x2 = np.array([[1, 2], [3, 4]])\n",
    "det_A_2x2 = np.linalg.det(A_2x2)\n",
    "print(\"Matriz 2x2 (A):\")\n",
    "print(A_2x2)\n",
    "print(\"Determinante de A:\", det_A_2x2)"
   ]
  },
  {
   "cell_type": "code",
   "execution_count": 3,
   "metadata": {},
   "outputs": [
    {
     "name": "stdout",
     "output_type": "stream",
     "text": [
      "\\nMatriz 3x3 (A):\n",
      "[[1 2 3]\n",
      " [4 5 6]\n",
      " [7 8 9]]\n",
      "Determinante de A: -9.51619735392994e-16\n"
     ]
    }
   ],
   "source": [
    "# Matriz 3x3\n",
    "A_3x3 = np.array([[1, 2, 3], [4, 5, 6], [7, 8, 9]])\n",
    "det_A_3x3 = np.linalg.det(A_3x3)\n",
    "print(\"\\\\nMatriz 3x3 (A):\")\n",
    "print(A_3x3)\n",
    "print(\"Determinante de A:\", det_A_3x3)"
   ]
  },
  {
   "cell_type": "code",
   "execution_count": 4,
   "metadata": {},
   "outputs": [
    {
     "name": "stdout",
     "output_type": "stream",
     "text": [
      "\\nA matriz 2x2 é invertível.\n",
      "\\nA matriz 3x3 é invertível.\n"
     ]
    }
   ],
   "source": [
    "# Verificação de invertibilidade\n",
    "if det_A_2x2 != 0:\n",
    "    print(\"\\\\nA matriz 2x2 é invertível.\")\n",
    "else:\n",
    "    print(\"\\\\nA matriz 2x2 não é invertível.\")\n",
    "\n",
    "if det_A_3x3 != 0:\n",
    "    print(\"\\\\nA matriz 3x3 é invertível.\")\n",
    "else:\n",
    "    print(\"\\\\nA matriz 3x3 não é invertível.\")\n"
   ]
  }
 ],
 "metadata": {
  "kernelspec": {
   "display_name": "Python 3",
   "language": "python",
   "name": "python3"
  },
  "language_info": {
   "codemirror_mode": {
    "name": "ipython",
    "version": 3
   },
   "file_extension": ".py",
   "mimetype": "text/x-python",
   "name": "python",
   "nbconvert_exporter": "python",
   "pygments_lexer": "ipython3",
   "version": "3.12.3"
  }
 },
 "nbformat": 4,
 "nbformat_minor": 2
}
