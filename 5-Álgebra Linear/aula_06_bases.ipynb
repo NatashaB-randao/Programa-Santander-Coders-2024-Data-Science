{
 "cells": [
  {
   "cell_type": "markdown",
   "metadata": {},
   "source": [
    "## Bases\n",
    "\n",
    "Em álgebra linear, uma base é um conjunto de vetores que são linearmente independentes e que, juntos, conseguem gerar todo o espaço vetorial através de combinações lineares. Vamos explorar os conceitos básicos relacionados às bases:\n",
    "\n",
    "### Conceitos Fundamentais:\n",
    "\n",
    "1. **Espaço Vetorial**: Um conjunto de vetores onde operações de adição de vetores e multiplicação por escalares são definidas e satisfazem certas propriedades.\n",
    "2. **Base**: Um conjunto de vetores {v1,v2,…,vn}{v1,v2,…,vn} é uma base de um espaço vetorial se:\n",
    "    - Os vetores são linearmente independentes, ou seja, não há uma combinação linear não trivial que resulte no vetor nulo.\n",
    "    - Qualquer vetor no espaço vetorial pode ser expresso de maneira única como uma combinação linear dos vetores da base.\n",
    "3. **Dimensão**: A dimensão de um espaço vetorial é o número de vetores em uma base. Todos os conjuntos de vetores que formam uma base para o mesmo espaço vetorial têm o mesmo número de elementos.\n",
    "\n",
    "### Exemplos de Bases:\n",
    "\n",
    "- **Espaço Vetorial R**²:\n",
    "    - A base padrão: {e1=(1,0),e2=(0,1)}.\n",
    "    - Outra base: {v1=(1,1),v2=(−1,1)}.\n",
    "- **Espaço Vetorial R3R3**:\n",
    "    - A base padrão: {e1=(1,0,0),e2=(0,1,0),e3=(0,0,1)}.\n",
    "    - Outra base: {v1=(1,1,0),v2=(1,−1,0),v3=(0,0,1)}.\n",
    "\n",
    "### Representação e Mudança de Base:\n",
    "\n",
    "- **Coordenadas**: Cada vetor em um espaço vetorial pode ser representado por um conjunto específico de coordenadas em relação à base escolhida.\n",
    "- **Matriz de Mudança de Base**: Permite a conversão de coordenadas de uma base para outra base."
   ]
  },
  {
   "cell_type": "code",
   "execution_count": 1,
   "metadata": {},
   "outputs": [
    {
     "name": "stdout",
     "output_type": "stream",
     "text": [
      "Coordenadas de v_R2 na base padrão:\n",
      "[2. 3.]\n",
      "\n",
      "Coordenadas de v_R2 na nova base:\n",
      "[-0.5  2.5]\n",
      "\n",
      "Vetor reconstruído a partir das coordenadas na nova base:\n",
      "[2. 3.]\n",
      "\n",
      "Coordenadas de v_R3 na base padrão:\n",
      "[1. 2. 3.]\n"
     ]
    }
   ],
   "source": [
    "import numpy as np\n",
    "\n",
    "# Definindo uma base para o espaço vetorial R^2\n",
    "base_R2 = np.array([[1, 0], [0, 1]])  # Base padrão\n",
    "\n",
    "# Vetor no espaço R^2\n",
    "v_R2 = np.array([2, 3])\n",
    "\n",
    "# Coordenadas do vetor v_R2 na base padrão\n",
    "coordenadas_R2 = np.linalg.solve(base_R2, v_R2)\n",
    "print(\"Coordenadas de v_R2 na base padrão:\")\n",
    "print(coordenadas_R2)\n",
    "\n",
    "# Definindo outra base para o espaço vetorial R^2\n",
    "nova_base_R2 = np.array([[1, 1], [-1, 1]])\n",
    "\n",
    "# Coordenadas do vetor v_R2 na nova base\n",
    "coordenadas_nova_R2 = np.linalg.solve(nova_base_R2, v_R2)\n",
    "print(\"\\nCoordenadas de v_R2 na nova base:\")\n",
    "print(coordenadas_nova_R2)\n",
    "\n",
    "# Verificação: Reconstruindo v_R2 a partir das coordenadas na nova base\n",
    "v_R2_reconstruido = np.dot(nova_base_R2, coordenadas_nova_R2)\n",
    "print(\"\\nVetor reconstruído a partir das coordenadas na nova base:\")\n",
    "print(v_R2_reconstruido)\n",
    "\n",
    "# Definindo uma base para o espaço vetorial R^3\n",
    "base_R3 = np.array([[1, 0, 0], [0, 1, 0], [0, 0, 1]])  # Base padrão\n",
    "\n",
    "# Vetor no espaço R^3\n",
    "v_R3 = np.array([1, 2, 3])\n",
    "\n",
    "# Coordenadas do vetor v_R3 na base padrão\n",
    "coordenadas_R3 = np.linalg.solve(base_R3, v_R3)\n",
    "print(\"\\nCoordenadas de v_R3 na base padrão:\")\n",
    "print(coordenadas_R3)\n"
   ]
  }
 ],
 "metadata": {
  "kernelspec": {
   "display_name": "Python 3",
   "language": "python",
   "name": "python3"
  },
  "language_info": {
   "codemirror_mode": {
    "name": "ipython",
    "version": 3
   },
   "file_extension": ".py",
   "mimetype": "text/x-python",
   "name": "python",
   "nbconvert_exporter": "python",
   "pygments_lexer": "ipython3",
   "version": "3.12.3"
  }
 },
 "nbformat": 4,
 "nbformat_minor": 2
}
