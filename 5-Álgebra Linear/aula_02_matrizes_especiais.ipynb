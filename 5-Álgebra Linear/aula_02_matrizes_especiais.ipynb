{
 "cells": [
  {
   "cell_type": "markdown",
   "metadata": {},
   "source": [
    "## Matrizes Especiais\n",
    "\n",
    "Matrizes especiais são matrizes com características particulares que facilitam sua manipulação e aplicação em diversos problemas. Aqui estão alguns dos tipos mais importantes:\n",
    "\n",
    "1. **Matriz Identidade (I)**:\n",
    "   - **Descrição**: Uma matriz quadrada com 1's na diagonal principal (do canto superior esquerdo ao canto inferior direito) e 0's em todos os outros lugares.\n",
    "   - **Propriedade**: Multiplicar qualquer matriz pela matriz identidade resulta na matriz original.\n",
    "   - **Exemplo**:\n",
    "     ```\n",
    "     I = [1 0]\n",
    "         [0 1]\n",
    "     ```\n",
    "\n",
    "2. **Matriz Diagonal**:\n",
    "   - **Descrição**: Uma matriz onde todos os elementos fora da diagonal principal são zero.\n",
    "   - **Propriedade**: Fácil de inverter e elevar a potências.\n",
    "   - **Exemplo**:\n",
    "     ```\n",
    "     D = [3 0]\n",
    "         [0 5]\n",
    "     ```\n",
    "\n",
    "3. **Matriz Nula (ou Zero)**:\n",
    "   - **Descrição**: Todos os elementos são zero.\n",
    "   - **Propriedade**: A adição da matriz nula a qualquer outra matriz não altera a matriz original.\n",
    "   - **Exemplo**:\n",
    "     ```\n",
    "     O = [0 0]\n",
    "         [0 0]\n",
    "     ```\n",
    "\n",
    "4. **Matriz Transposta (A^T)**:\n",
    "   - **Descrição**: Obtida trocando as linhas e colunas de uma matriz.\n",
    "   - **Propriedade**: A transposta da transposta de uma matriz é a matriz original.\n",
    "   - **Exemplo**: Se A = [1 2] [3 4], então A^T = [1 3] [2 4].\n",
    "\n",
    "5. **Matriz Simétrica**:\n",
    "   - **Descrição**: Uma matriz quadrada que é igual à sua transposta (A = A^T).\n",
    "   - **Propriedade**: Seus autovalores são reais.\n",
    "   - **Exemplo**:\n",
    "     ```\n",
    "     S = [1 2]\n",
    "         [2 3]\n",
    "     ```\n",
    "\n",
    "6. **Matriz Anti-Simétrica (ou Skew-Simétrica)**:\n",
    "   - **Descrição**: Uma matriz quadrada onde A^T = -A.\n",
    "   - **Propriedade**: Os elementos da diagonal principal são zero.\n",
    "   - **Exemplo**:\n",
    "     ```\n",
    "     A = [ 0 -2]\n",
    "         [ 2  0]\n",
    "     ```\n",
    "\n",
    "7. **Matriz Ortogonal**:\n",
    "   - **Descrição**: Uma matriz quadrada cujas linhas e colunas são vetores ortonormais (A^T A = I).\n",
    "   - **Propriedade**: Preserva distâncias e ângulos em transformações.\n",
    "   - **Exemplo**:\n",
    "     ```\n",
    "     Q = [ 1  0]\n",
    "         [ 0 -1]\n",
    "     ```\n",
    "\n",
    "8. **Matriz Triangular**:\n",
    "   - **Descrição**: Pode ser triangular superior (todos os elementos abaixo da diagonal principal são zero) ou triangular inferior (todos os elementos acima da diagonal principal são zero).\n",
    "   - **Propriedade**: Facilita a resolução de sistemas lineares.\n",
    "   - **Exemplo**:\n",
    "     ```\n",
    "     Triangular Superior:\n",
    "     [1 2]\n",
    "     [0 3]\n",
    "     \n",
    "     Triangular Inferior:\n",
    "     [4 0]\n",
    "     [2 5]\n",
    "     ```\n"
   ]
  },
  {
   "cell_type": "code",
   "execution_count": 1,
   "metadata": {},
   "outputs": [
    {
     "name": "stdout",
     "output_type": "stream",
     "text": [
      "Matriz Identidade (I):\n",
      "[[1. 0.]\n",
      " [0. 1.]]\n"
     ]
    }
   ],
   "source": [
    "import numpy as np\n",
    "\n",
    "# 1. Matriz Identidade\n",
    "I = np.eye(2)\n",
    "print(\"Matriz Identidade (I):\")\n",
    "print(I)"
   ]
  },
  {
   "cell_type": "code",
   "execution_count": 2,
   "metadata": {},
   "outputs": [
    {
     "name": "stdout",
     "output_type": "stream",
     "text": [
      "\n",
      "Matriz Diagonal (D):\n",
      "[[3 0]\n",
      " [0 5]]\n"
     ]
    }
   ],
   "source": [
    "# 2. Matriz Diagonal\n",
    "D = np.diag([3, 5])\n",
    "print(\"\\nMatriz Diagonal (D):\")\n",
    "print(D)"
   ]
  },
  {
   "cell_type": "code",
   "execution_count": 3,
   "metadata": {},
   "outputs": [
    {
     "name": "stdout",
     "output_type": "stream",
     "text": [
      "\n",
      "Matriz Nula (O):\n",
      "[[0. 0.]\n",
      " [0. 0.]]\n"
     ]
    }
   ],
   "source": [
    "# 3. Matriz Nula (ou Zero)\n",
    "O = np.zeros((2, 2))\n",
    "print(\"\\nMatriz Nula (O):\")\n",
    "print(O)"
   ]
  },
  {
   "cell_type": "code",
   "execution_count": 4,
   "metadata": {},
   "outputs": [
    {
     "name": "stdout",
     "output_type": "stream",
     "text": [
      "\n",
      "Matriz A:\n",
      "[[1 2]\n",
      " [3 4]]\n",
      "Matriz Transposta (A^T):\n",
      "[[1 3]\n",
      " [2 4]]\n"
     ]
    }
   ],
   "source": [
    "# 4. Matriz Transposta\n",
    "A = np.array([[1, 2], [3, 4]])\n",
    "A_T = A.T\n",
    "print(\"\\nMatriz A:\")\n",
    "print(A)\n",
    "print(\"Matriz Transposta (A^T):\")\n",
    "print(A_T)"
   ]
  },
  {
   "cell_type": "code",
   "execution_count": 5,
   "metadata": {},
   "outputs": [
    {
     "name": "stdout",
     "output_type": "stream",
     "text": [
      "\n",
      "Matriz Simétrica (S):\n",
      "[[1 2]\n",
      " [2 3]]\n"
     ]
    }
   ],
   "source": [
    "# 5. Matriz Simétrica\n",
    "S = np.array([[1, 2], [2, 3]])\n",
    "print(\"\\nMatriz Simétrica (S):\")\n",
    "print(S)"
   ]
  },
  {
   "cell_type": "code",
   "execution_count": 6,
   "metadata": {},
   "outputs": [
    {
     "name": "stdout",
     "output_type": "stream",
     "text": [
      "\n",
      "Matriz Anti-Simétrica (A_skew):\n",
      "[[ 0 -2]\n",
      " [ 2  0]]\n"
     ]
    }
   ],
   "source": [
    "# 6. Matriz Anti-Simétrica (ou Skew-Simétrica)\n",
    "A_skew = np.array([[0, -2], [2, 0]])\n",
    "print(\"\\nMatriz Anti-Simétrica (A_skew):\")\n",
    "print(A_skew)"
   ]
  },
  {
   "cell_type": "code",
   "execution_count": 7,
   "metadata": {},
   "outputs": [
    {
     "name": "stdout",
     "output_type": "stream",
     "text": [
      "\n",
      "Matriz Ortogonal (Q):\n",
      "[[ 1  0]\n",
      " [ 0 -1]]\n",
      "Verificação (Q^T Q):\n",
      "[[1 0]\n",
      " [0 1]]\n"
     ]
    }
   ],
   "source": [
    "# 7. Matriz Ortogonal\n",
    "Q = np.array([[1, 0], [0, -1]])\n",
    "print(\"\\nMatriz Ortogonal (Q):\")\n",
    "print(Q)\n",
    "print(\"Verificação (Q^T Q):\")\n",
    "print(Q.T @ Q)"
   ]
  },
  {
   "cell_type": "code",
   "execution_count": 8,
   "metadata": {},
   "outputs": [
    {
     "name": "stdout",
     "output_type": "stream",
     "text": [
      "\n",
      "Matriz Triangular Superior (U):\n",
      "[[1 2]\n",
      " [0 3]]\n",
      "Matriz Triangular Inferior (L):\n",
      "[[4 0]\n",
      " [2 5]]\n"
     ]
    }
   ],
   "source": [
    "# 8. Matriz Triangular\n",
    "# Triangular Superior\n",
    "U = np.array([[1, 2], [0, 3]])\n",
    "# Triangular Inferior\n",
    "L = np.array([[4, 0], [2, 5]])\n",
    "print(\"\\nMatriz Triangular Superior (U):\")\n",
    "print(U)\n",
    "print(\"Matriz Triangular Inferior (L):\")\n",
    "print(L)"
   ]
  }
 ],
 "metadata": {
  "kernelspec": {
   "display_name": "Python 3",
   "language": "python",
   "name": "python3"
  },
  "language_info": {
   "codemirror_mode": {
    "name": "ipython",
    "version": 3
   },
   "file_extension": ".py",
   "mimetype": "text/x-python",
   "name": "python",
   "nbconvert_exporter": "python",
   "pygments_lexer": "ipython3",
   "version": "3.12.3"
  }
 },
 "nbformat": 4,
 "nbformat_minor": 2
}
