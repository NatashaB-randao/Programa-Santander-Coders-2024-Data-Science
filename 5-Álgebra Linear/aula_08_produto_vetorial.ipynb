{
 "cells": [
  {
   "cell_type": "markdown",
   "metadata": {},
   "source": [
    "## Produto Vetorial\n",
    "\n",
    "O produto vetorial é uma operação entre dois vetores no espaço tridimensional que resulta em um vetor ortogonal aos vetores originais. Vamos explorar os conceitos básicos, propriedades e aplicações do produto vetorial:\n",
    "\n",
    "#### Definição:\n",
    "\n",
    "O produto vetorial entre dois vetores \\( \\mathbf{u} = (u_1, u_2, u_3) \\) e \\( \\mathbf{v} = (v_1, v_2, v_3) \\) é dado por:\n",
    "\n",
    "\\[ \\mathbf{u} \\times \\mathbf{v} = (u_2 v_3 - u_3 v_2, u_3 v_1 - u_1 v_3, u_1 v_2 - u_2 v_1) \\]\n",
    "\n",
    "#### Propriedades:\n",
    "\n",
    "1. **Antissimétrico**: \\( \\mathbf{u} \\times \\mathbf{v} = -(\\mathbf{v} \\times \\mathbf{u}) \\)\n",
    "   \n",
    "2. **Perpendicularidade**: O vetor \\( \\mathbf{u} \\times \\mathbf{v} \\) é ortogonal aos vetores \\( \\mathbf{u} \\) e \\( \\mathbf{v} \\).\n",
    "\n",
    "3. **Área do Paralelogramo**: O módulo do produto vetorial \\( \\| \\mathbf{u} \\times \\mathbf{v} \\| \\) é igual à área do paralelogramo formado pelos vetores \\( \\mathbf{u} \\) e \\( \\mathbf{v} \\).\n",
    "\n",
    "4. **Determinante**: O produto vetorial pode ser calculado usando um determinante:\n",
    "\n",
    "\\[ \\mathbf{u} \\times \\mathbf{v} = \\det\\left( \\begin{bmatrix} \\mathbf{i} & \\mathbf{j} & \\mathbf{k} \\\\ u_1 & u_2 & u_3 \\\\ v_1 & v_2 & v_3 \\end{bmatrix} \\right) \\]\n",
    "\n",
    "#### Aplicações e Interpretacão Geométrica:\n",
    "\n",
    "- **Direção e Sentido**: O produto vetorial determina a direção e o sentido do vetor resultante \\( \\mathbf{u} \\times \\mathbf{v} \\).\n",
    "  \n",
    "- **Força e Momento**: É utilizado em física para calcular momentos de força, torque e outras grandezas vetoriais.\n",
    "\n"
   ]
  },
  {
   "cell_type": "code",
   "execution_count": 1,
   "metadata": {},
   "outputs": [
    {
     "name": "stdout",
     "output_type": "stream",
     "text": [
      "Vetor u: [1 2 3]\n",
      "Vetor v: [4 5 6]\n",
      "Produto Vetorial u x v: [-3  6 -3]\n",
      "\n",
      "Produto Escalar u . v: 32\n",
      "Produto Vetorial u x v é perpendicular a u e v: True\n",
      "\n",
      "Área do paralelogramo formado por u e v: 7.3484692283495345\n",
      "\n",
      "Propriedade antissimétrica: u x v = - (v x u)\n",
      "Produto Vetorial v x u: [ 3 -6  3]\n",
      "Igualdade: True\n"
     ]
    }
   ],
   "source": [
    "import numpy as np\n",
    "\n",
    "# Definindo dois vetores\n",
    "u = np.array([1, 2, 3])\n",
    "v = np.array([4, 5, 6])\n",
    "\n",
    "# Calculando o produto vetorial de u e v\n",
    "cross_product = np.cross(u, v)\n",
    "print(\"Vetor u:\", u)\n",
    "print(\"Vetor v:\", v)\n",
    "print(\"Produto Vetorial u x v:\", cross_product)\n",
    "\n",
    "# Verificando a perpendicularidade\n",
    "dot_uv = np.dot(u, v)\n",
    "print(\"\\nProduto Escalar u . v:\", dot_uv)\n",
    "print(\"Produto Vetorial u x v é perpendicular a u e v:\", np.isclose(np.dot(cross_product, u), 0) and np.isclose(np.dot(cross_product, v), 0))\n",
    "\n",
    "# Calculando a área do paralelogramo\n",
    "area_paralelogramo = np.linalg.norm(cross_product)\n",
    "print(\"\\nÁrea do paralelogramo formado por u e v:\", area_paralelogramo)\n",
    "\n",
    "# Propriedade antissimétrica\n",
    "print(\"\\nPropriedade antissimétrica: u x v = - (v x u)\")\n",
    "print(\"Produto Vetorial v x u:\", np.cross(v, u))\n",
    "print(\"Igualdade:\", np.allclose(cross_product, -np.cross(v, u)))\n"
   ]
  }
 ],
 "metadata": {
  "kernelspec": {
   "display_name": "Python 3",
   "language": "python",
   "name": "python3"
  },
  "language_info": {
   "codemirror_mode": {
    "name": "ipython",
    "version": 3
   },
   "file_extension": ".py",
   "mimetype": "text/x-python",
   "name": "python",
   "nbconvert_exporter": "python",
   "pygments_lexer": "ipython3",
   "version": "3.12.3"
  }
 },
 "nbformat": 4,
 "nbformat_minor": 2
}
