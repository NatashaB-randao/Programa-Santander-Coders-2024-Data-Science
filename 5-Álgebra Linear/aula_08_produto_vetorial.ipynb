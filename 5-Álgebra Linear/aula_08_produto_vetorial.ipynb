{
 "cells": [
  {
   "cell_type": "markdown",
   "metadata": {},
   "source": [
    "## Produto Vetorial\n",
    "\n",
    "O produto vetorial é uma operação entre dois vetores no espaço tridimensional que resulta em um vetor ortogonal aos vetores originais. Vamos explorar os conceitos básicos, propriedades e aplicações do produto vetorial:\n",
    "\n",
    "#### Definição:\n",
    "\n",
    "O produto vetorial entre dois vetores \\( \\mathbf{u} = (u_1, u_2, u_3) \\) e \\( \\mathbf{v} = (v_1, v_2, v_3) \\) é dado por:\n",
    "\n",
    "\\[ \\mathbf{u} \\times \\mathbf{v} = (u_2 v_3 - u_3 v_2, u_3 v_1 - u_1 v_3, u_1 v_2 - u_2 v_1) \\]\n",
    "\n",
    "#### Propriedades:\n",
    "\n",
    "1. **Antissimétrico**: \\( \\mathbf{u} \\times \\mathbf{v} = -(\\mathbf{v} \\times \\mathbf{u}) \\)\n",
    "   \n",
    "2. **Perpendicularidade**: O vetor \\( \\mathbf{u} \\times \\mathbf{v} \\) é ortogonal aos vetores \\( \\mathbf{u} \\) e \\( \\mathbf{v} \\).\n",
    "\n",
    "3. **Área do Paralelogramo**: O módulo do produto vetorial \\( \\| \\mathbf{u} \\times \\mathbf{v} \\| \\) é igual à área do paralelogramo formado pelos vetores \\( \\mathbf{u} \\) e \\( \\mathbf{v} \\).\n",
    "\n",
    "4. **Determinante**: O produto vetorial pode ser calculado usando um determinante:\n",
    "\n",
    "\\[ \\mathbf{u} \\times \\mathbf{v} = \\det\\left( \\begin{bmatrix} \\mathbf{i} & \\mathbf{j} & \\mathbf{k} \\\\ u_1 & u_2 & u_3 \\\\ v_1 & v_2 & v_3 \\end{bmatrix} \\right) \\]\n",
    "\n",
    "#### Aplicações e Interpretacão Geométrica:\n",
    "\n",
    "- **Direção e Sentido**: O produto vetorial determina a direção e o sentido do vetor resultante \\( \\mathbf{u} \\times \\mathbf{v} \\).\n",
    "  \n",
    "- **Força e Momento**: É utilizado em física para calcular momentos de força, torque e outras grandezas vetoriais.\n",
    "\n"
   ]
  },
  {
   "cell_type": "code",
   "execution_count": null,
   "metadata": {},
   "outputs": [],
   "source": []
  }
 ],
 "metadata": {
  "language_info": {
   "name": "python"
  }
 },
 "nbformat": 4,
 "nbformat_minor": 2
}
