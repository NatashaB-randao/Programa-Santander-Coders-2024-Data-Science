{
 "cells": [
  {
   "cell_type": "markdown",
   "metadata": {},
   "source": [
    "## Produto Escalar\n",
    "\n",
    "O produto escalar, também conhecido como produto interno, é uma operação fundamental em álgebra linear que associa dois vetores no espaço euclidiano, resultando em um escalar."
   ]
  },
  {
   "cell_type": "code",
   "execution_count": 1,
   "metadata": {},
   "outputs": [
    {
     "name": "stdout",
     "output_type": "stream",
     "text": [
      "Vetor u: [1 2 3]\n",
      "Vetor v: [4 5 6]\n",
      "Produto Escalar u . v: 32\n",
      "\n",
      "Ângulo entre u e v (em graus): 12.933154491899135\n",
      "\n",
      "Propriedade de distributividade: True\n"
     ]
    }
   ],
   "source": [
    "import numpy as np\n",
    "\n",
    "# Definindo dois vetores\n",
    "u = np.array([1, 2, 3])\n",
    "v = np.array([4, 5, 6])\n",
    "\n",
    "# Calculando o produto escalar de u e v\n",
    "dot_product = np.dot(u, v)\n",
    "print(\"Vetor u:\", u)\n",
    "print(\"Vetor v:\", v)\n",
    "print(\"Produto Escalar u . v:\", dot_product)\n",
    "\n",
    "# Calculando o ângulo entre u e v\n",
    "norm_u = np.linalg.norm(u)\n",
    "norm_v = np.linalg.norm(v)\n",
    "cos_theta = dot_product / (norm_u * norm_v)\n",
    "theta_degrees = np.degrees(np.arccos(cos_theta))\n",
    "print(\"\\nÂngulo entre u e v (em graus):\", theta_degrees)\n",
    "\n",
    "# Demonstrando a propriedade de distributividade\n",
    "w = np.array([7, 8, 9])\n",
    "distributive_property = np.dot(u, (v + w)) == np.dot(u, v) + np.dot(u, w)\n",
    "print(\"\\nPropriedade de distributividade:\", distributive_property)\n"
   ]
  }
 ],
 "metadata": {
  "kernelspec": {
   "display_name": "Python 3",
   "language": "python",
   "name": "python3"
  },
  "language_info": {
   "codemirror_mode": {
    "name": "ipython",
    "version": 3
   },
   "file_extension": ".py",
   "mimetype": "text/x-python",
   "name": "python",
   "nbconvert_exporter": "python",
   "pygments_lexer": "ipython3",
   "version": "3.12.3"
  }
 },
 "nbformat": 4,
 "nbformat_minor": 2
}
