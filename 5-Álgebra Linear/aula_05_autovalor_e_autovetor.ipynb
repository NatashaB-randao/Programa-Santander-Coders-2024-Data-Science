{
 "cells": [
  {
   "cell_type": "markdown",
   "metadata": {},
   "source": [
    "## Autovalores e Autovetores\n",
    "\n",
    "Os autovalores e autovetores são conceitos importantes em álgebra linear que descrevem propriedades especiais de transformações lineares e matrizes.\n",
    "\n",
    "#### Autovetores e Autovalores:\n",
    "\n",
    "- **Autovetor**: Um vetor não nulo v é um autovetor de uma transformação linear T se T(v) é paralelo a v. Em termos matemáticos, isso significa que existe um escalar λ, chamado autovalor correspondente, tal que T(v)=λv.\n",
    "\n",
    "- **Autovalor**: É o escalar λ associado ao autovetor v. Cada autovetor pode ter vários autovalores associados a ele.\n",
    "\n",
    "#### Propriedades e Aplicações:\n",
    "\n",
    "1. **Importância**: Os autovalores e autovetores são fundamentais para entender o comportamento das transformações lineares e para resolver equações diferenciais lineares.\n",
    "   \n",
    "2. **Cálculo**: Os autovalores são encontrados resolvendo a equação característica det(A−λI)=0, onde A é a matriz da transformação linear e I é a matriz identidade.\n",
    "\n",
    "3. **Interpretação Geométrica**: Em transformações geométricas, os autovetores representam direções especiais que não mudam de direção sob a transformação, e os autovalores indicam o fator pelo qual essas direções são escaladas.\n",
    "\n"
   ]
  },
  {
   "cell_type": "code",
   "execution_count": 1,
   "metadata": {},
   "outputs": [
    {
     "name": "stdout",
     "output_type": "stream",
     "text": [
      "Matriz A:\n",
      "[[ 2 -1]\n",
      " [-1  3]]\n",
      "\n",
      "Autovalores: [1.38196601 3.61803399]\n",
      "Autovetores:\n",
      "[[-0.85065081  0.52573111]\n",
      " [-0.52573111 -0.85065081]]\n",
      "\n",
      "Para autovalor 1.381966011250105:\n",
      "Av = [-1.1755705  -0.72654253]\n",
      "lambda * v = [-1.1755705  -0.72654253]\n",
      "Satisfeito: True\n",
      "\n",
      "Para autovalor 3.618033988749895:\n",
      "Av = [ 1.90211303 -3.07768354]\n",
      "lambda * v = [ 1.90211303 -3.07768354]\n",
      "Satisfeito: True\n"
     ]
    }
   ],
   "source": [
    "import numpy as np\n",
    "\n",
    "# Definindo a matriz\n",
    "A = np.array([[2, -1], [-1, 3]])\n",
    "\n",
    "# Calculando autovalores e autovetores\n",
    "autovalores, autovetores = np.linalg.eig(A)\n",
    "\n",
    "# Imprimindo resultados\n",
    "print(\"Matriz A:\")\n",
    "print(A)\n",
    "print(\"\\nAutovalores:\", autovalores)\n",
    "print(\"Autovetores:\")\n",
    "print(autovetores)\n",
    "\n",
    "# Verificando se os autovetores e autovalores satisfazem a definição\n",
    "for i in range(len(autovalores)):\n",
    "    lambda_val = autovalores[i]\n",
    "    v = autovetores[:, i]\n",
    "    Av = np.dot(A, v)\n",
    "    check = np.isclose(Av, lambda_val * v)\n",
    "    print(f\"\\nPara autovalor {lambda_val}:\")\n",
    "    print(f\"Av = {Av}\")\n",
    "    print(f\"lambda * v = {lambda_val * v}\")\n",
    "    print(\"Satisfeito:\", check.all())\n"
   ]
  }
 ],
 "metadata": {
  "kernelspec": {
   "display_name": "Python 3",
   "language": "python",
   "name": "python3"
  },
  "language_info": {
   "codemirror_mode": {
    "name": "ipython",
    "version": 3
   },
   "file_extension": ".py",
   "mimetype": "text/x-python",
   "name": "python",
   "nbconvert_exporter": "python",
   "pygments_lexer": "ipython3",
   "version": "3.12.3"
  }
 },
 "nbformat": 4,
 "nbformat_minor": 2
}
