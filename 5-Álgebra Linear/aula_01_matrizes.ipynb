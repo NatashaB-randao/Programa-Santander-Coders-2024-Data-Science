{
 "cells": [
  {
   "cell_type": "markdown",
   "metadata": {},
   "source": [
    "## Álgebra Linear\n",
    "\n",
    "Álgebra Linear é um ramo da matemática que estuda espaços vetoriais, transformações lineares e sistemas de equações lineares. Aqui estão alguns conceitos chave de forma didática:\n",
    "\n",
    "1. **Espaços Vetoriais**: Um espaço vetorial é um conjunto de objetos (vetores) que podem ser somados entre si e multiplicados por escalares (números), satisfazendo certas propriedades. Por exemplo, os vetores geométricos que você aprende em física ou matemática são um tipo de vetor.\n",
    "\n",
    "2. **Transformações Lineares**: São regras ou funções que preservam a estrutura vetorial, ou seja, levam vetores de um espaço vetorial para outro de maneira consistente. Por exemplo, uma rotação ou uma dilatação são transformações lineares em certos contextos.\n",
    "\n",
    "3. **Sistemas de Equações Lineares**: São conjuntos de equações onde cada equação é linear (os termos são somas de constantes multiplicadas por variáveis). Resolver esses sistemas significa encontrar valores das variáveis que satisfazem todas as equações simultaneamente.\n",
    "\n",
    "4. **Matrizes**: São tabelas retangulares de números que representam transformações lineares, sistemas de equações e outras operações em Álgebra Linear. Elas são essenciais para resolver sistemas lineares e descrever transformações geométricas.\n",
    "\n",
    "5. **Determinantes**: São números associados a matrizes quadradas que ajudam a determinar se uma matriz é invertível e a calcular volumes em geometria.\n",
    "\n",
    "6. **Autovalores e Autovetores**: São conceitos avançados que descrevem propriedades especiais de transformações lineares, indicando direções especiais (autovetores) e escalas (autovalores) que permanecem inalteradas sob essas transformações.\n",
    "\n",
    "Álgebra Linear tem muitas aplicações em física, engenharia, ciência da computação, economia e em muitos outros campos, sendo fundamental para modelar e resolver uma ampla variedade de problemas quantitativos."
   ]
  },
  {
   "cell_type": "markdown",
   "metadata": {},
   "source": [
    "## Matrizes\n",
    "\n",
    "Matrizes são tabelas retangulares de números organizados em linhas e colunas. Elas são fundamentais na Álgebra Linear e têm várias aplicações em diversas áreas, como física, engenharia, economia e ciência da computação. Aqui estão os pontos principais de forma didática:\n",
    "\n",
    "1. **Estrutura**: Uma matriz é uma coleção ordenada de números dispostos em linhas e colunas. Por exemplo, uma matriz 2x3 tem 2 linhas e 3 colunas.\n",
    "\n",
    "2. **Elementos**: Cada número na matriz é chamado de elemento. Eles são identificados pela sua posição, usando o número da linha seguido do número da coluna. Por exemplo, o elemento na segunda linha e terceira coluna é denotado como \\( A_{2,3} \\).\n",
    "\n",
    "3. **Tipos de Matrizes**:\n",
    "   - **Matriz Quadrada**: Tem o mesmo número de linhas e colunas.\n",
    "   - **Matriz Retangular**: Tem um número diferente de linhas e colunas.\n",
    "   - **Matriz de Linha e Coluna**: Tem apenas uma linha ou uma coluna.\n",
    "\n",
    "4. **Operações Básicas**:\n",
    "   - **Adição e Subtração**: Matrizes do mesmo tamanho podem ser somadas ou subtraídas, adicionando ou subtraindo elementos correspondentes.\n",
    "   - **Multiplicação por Escalar**: Cada elemento da matriz é multiplicado por um número (escalar).\n",
    "   - **Multiplicação de Matrizes**: A multiplicação de duas matrizes é definida se o número de colunas da primeira matriz é igual ao número de linhas da segunda matriz.\n",
    "\n",
    "5. **Aplicações**:\n",
    "   - **Sistemas de Equações Lineares**: Matrizes são usadas para representar e resolver sistemas de equações lineares.\n",
    "   - **Transformações Geométricas**: Em geometria, matrizes representam transformações como rotações, escalas e reflexões.\n",
    "   - **Computação Gráfica**: São essenciais para representar objetos 3D, realizar projeções e animações.\n",
    "   - **Redes Neurais**: São usadas para calcular operações de peso em camadas de redes neurais artificiais.\n",
    "\n",
    "Matrizes são uma ferramenta poderosa para organizar dados e resolver problemas complexos em diversas áreas do conhecimento, tornando-se uma parte fundamental da matemática aplicada e da ciência da computação."
   ]
  },
  {
   "cell_type": "markdown",
   "metadata": {},
   "source": [
    "### Matrizes no Python\n",
    "\n",
    "Em Python uma matriz poder ser apresentada como uma lista de listas, onde cada lista interna representa uma linha da matriz, que por sua vez corresponde a uma lista com os elementos da coluna da matriz. Por exemplo, para criar uma matriz 2 por 3, podemos usar a seguinte sintaxe:"
   ]
  },
  {
   "cell_type": "code",
   "execution_count": 2,
   "metadata": {},
   "outputs": [
    {
     "data": {
      "text/plain": [
       "[[1, 2, 3], [4, 5, 6]]"
      ]
     },
     "execution_count": 2,
     "metadata": {},
     "output_type": "execute_result"
    }
   ],
   "source": [
    "matriz_A = [[1, 2, 3], [4, 5, 6]]\n",
    "\n",
    "matriz_A"
   ]
  },
  {
   "cell_type": "code",
   "execution_count": 5,
   "metadata": {},
   "outputs": [
    {
     "data": {
      "text/plain": [
       "2"
      ]
     },
     "execution_count": 5,
     "metadata": {},
     "output_type": "execute_result"
    }
   ],
   "source": [
    "matriz_A[0][1]"
   ]
  },
  {
   "cell_type": "markdown",
   "metadata": {},
   "source": [
    "Usar listas aninhadas como matriz funciona para tarefas computacionais simples. No entanto, existe uma maneira melhor de trabalhar\n",
    "com matrizes em Python usando o pacote NumPy."
   ]
  },
  {
   "cell_type": "code",
   "execution_count": 1,
   "metadata": {},
   "outputs": [
    {
     "data": {
      "text/plain": [
       "array([[1, 2, 3],\n",
       "       [4, 5, 6],\n",
       "       [7, 8, 9]])"
      ]
     },
     "execution_count": 1,
     "metadata": {},
     "output_type": "execute_result"
    }
   ],
   "source": [
    "import numpy as np\n",
    "\n",
    "matriz_B = np.array([[1, 2, 3], [4, 5, 6], [7, 8,9]])\n",
    "\n",
    "matriz_B"
   ]
  },
  {
   "cell_type": "code",
   "execution_count": 2,
   "metadata": {},
   "outputs": [
    {
     "data": {
      "text/plain": [
       "array([[1, 4, 7],\n",
       "       [2, 5, 8],\n",
       "       [3, 6, 9]])"
      ]
     },
     "execution_count": 2,
     "metadata": {},
     "output_type": "execute_result"
    }
   ],
   "source": [
    "# Transposição de Matriz\n",
    "\n",
    "matriz_transposta = matriz_B.transpose()\n",
    "matriz_transposta"
   ]
  },
  {
   "cell_type": "code",
   "execution_count": 3,
   "metadata": {},
   "outputs": [
    {
     "data": {
      "text/plain": [
       "array([[10, 10, 10],\n",
       "       [10, 10, 10],\n",
       "       [10, 10, 10]])"
      ]
     },
     "execution_count": 3,
     "metadata": {},
     "output_type": "execute_result"
    }
   ],
   "source": [
    "# Adição de Matrizes\n",
    "\n",
    "matriz1 = np.array([[1, 2, 3], [4, 5, 6], [7, 8, 9]])\n",
    "matriz2 = np.array([[9, 8, 7], [6, 5, 4], [3, 2, 1]])\n",
    "\n",
    "matriz1 + matriz2"
   ]
  },
  {
   "cell_type": "code",
   "execution_count": 4,
   "metadata": {},
   "outputs": [
    {
     "data": {
      "text/plain": [
       "array([[ 30,  24,  18],\n",
       "       [ 84,  69,  54],\n",
       "       [138, 114,  90]])"
      ]
     },
     "execution_count": 4,
     "metadata": {},
     "output_type": "execute_result"
    }
   ],
   "source": [
    "# Multiplicação de Matrizes\n",
    "\n",
    "matriz1 = np.array([[1, 2, 3], [4, 5, 6], [7, 8, 9]])\n",
    "matriz2 = np.array([[9, 8, 7], [6, 5, 4], [3, 2, 1]])\n",
    "\n",
    "np.dot(matriz1, matriz2)"
   ]
  }
 ],
 "metadata": {
  "kernelspec": {
   "display_name": "Python 3",
   "language": "python",
   "name": "python3"
  },
  "language_info": {
   "codemirror_mode": {
    "name": "ipython",
    "version": 3
   },
   "file_extension": ".py",
   "mimetype": "text/x-python",
   "name": "python",
   "nbconvert_exporter": "python",
   "pygments_lexer": "ipython3",
   "version": "3.12.3"
  }
 },
 "nbformat": 4,
 "nbformat_minor": 2
}
