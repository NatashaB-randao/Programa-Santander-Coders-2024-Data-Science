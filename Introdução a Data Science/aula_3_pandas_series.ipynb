{
 "cells": [
  {
   "cell_type": "markdown",
   "metadata": {},
   "source": [
    "### Pandas Series\n",
    "\n",
    "Uma **Pandas Series** é uma estrutura de dados unidimensional do Pandas, uma biblioteca popular para análise de dados em Python. Você pode pensar nela como uma coluna em uma tabela de dados ou como um array unidimensional com rótulos para cada elemento. Aqui estão os principais pontos sobre as Series:\n",
    "\n",
    "1. **Dados e Índices**: Uma Series contém uma sequência de dados e um índice associado a cada elemento. O índice é como um rótulo que identifica cada item na Series.\n",
    "\n",
    "2. **Criação**: Você pode criar uma Series a partir de listas, arrays do NumPy ou até mesmo de dicionários. O índice pode ser gerado automaticamente ou especificado pelo usuário.\n",
    "\n",
    "3. **Acessar Dados**: Você pode acessar elementos da Series usando os índices, que podem ser números, strings ou outras etiquetas. Isso é semelhante ao acesso a elementos de um dicionário.\n",
    "\n",
    "4. **Operações**: As Series suportam muitas operações, como adição, subtração e aplicação de funções, de forma eficiente. Elas são muito usadas para manipulação e análise de dados.\n",
    "\n",
    "Resumindo, uma Pandas Series é uma estrutura poderosa e flexível para armazenar e manipular dados unidimensionais, facilitando a análise de dados em Python."
   ]
  },
  {
   "cell_type": "code",
   "execution_count": null,
   "metadata": {},
   "outputs": [],
   "source": []
  }
 ],
 "metadata": {
  "language_info": {
   "name": "python"
  }
 },
 "nbformat": 4,
 "nbformat_minor": 2
}
