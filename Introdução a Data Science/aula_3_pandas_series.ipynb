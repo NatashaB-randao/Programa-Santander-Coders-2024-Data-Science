{
 "cells": [
  {
   "cell_type": "markdown",
   "metadata": {},
   "source": [
    "### Pandas Series\n",
    "\n",
    "Uma **Pandas Series** é uma estrutura de dados unidimensional do Pandas, uma biblioteca popular para análise de dados em Python. Você pode pensar nela como uma coluna em uma tabela de dados ou como um array unidimensional com rótulos para cada elemento. Aqui estão os principais pontos sobre as Series:\n",
    "\n",
    "1. **Dados e Índices**: Uma Series contém uma sequência de dados e um índice associado a cada elemento. O índice é como um rótulo que identifica cada item na Series.\n",
    "\n",
    "2. **Criação**: Você pode criar uma Series a partir de listas, arrays do NumPy ou até mesmo de dicionários. O índice pode ser gerado automaticamente ou especificado pelo usuário.\n",
    "\n",
    "3. **Acessar Dados**: Você pode acessar elementos da Series usando os índices, que podem ser números, strings ou outras etiquetas. Isso é semelhante ao acesso a elementos de um dicionário.\n",
    "\n",
    "4. **Operações**: As Series suportam muitas operações, como adição, subtração e aplicação de funções, de forma eficiente. Elas são muito usadas para manipulação e análise de dados.\n",
    "\n",
    "Resumindo, uma Pandas Series é uma estrutura poderosa e flexível para armazenar e manipular dados unidimensionais, facilitando a análise de dados em Python."
   ]
  },
  {
   "cell_type": "code",
   "execution_count": 1,
   "metadata": {},
   "outputs": [],
   "source": [
    "import pandas as pd"
   ]
  },
  {
   "cell_type": "code",
   "execution_count": 2,
   "metadata": {},
   "outputs": [],
   "source": [
    "lista = [12, 23, 34, 45, 56, 67]\n",
    "\n",
    "series_pandas = pd.Series(lista)"
   ]
  },
  {
   "cell_type": "code",
   "execution_count": 5,
   "metadata": {},
   "outputs": [
    {
     "name": "stdout",
     "output_type": "stream",
     "text": [
      "0    12\n",
      "1    23\n",
      "2    34\n",
      "3    45\n",
      "4    56\n",
      "5    67\n",
      "dtype: int64\n"
     ]
    }
   ],
   "source": [
    "print(series_pandas)"
   ]
  },
  {
   "cell_type": "code",
   "execution_count": 6,
   "metadata": {},
   "outputs": [
    {
     "name": "stdout",
     "output_type": "stream",
     "text": [
      "12\n"
     ]
    }
   ],
   "source": [
    "print(series_pandas[0])"
   ]
  },
  {
   "cell_type": "code",
   "execution_count": 8,
   "metadata": {},
   "outputs": [],
   "source": [
    "notas = {'Tiago': 8, 'Guilherme': 9.5, 'Juca': 6.2}"
   ]
  },
  {
   "cell_type": "code",
   "execution_count": 9,
   "metadata": {},
   "outputs": [],
   "source": [
    "series_notas = pd.Series(notas)"
   ]
  },
  {
   "cell_type": "code",
   "execution_count": 10,
   "metadata": {},
   "outputs": [
    {
     "name": "stdout",
     "output_type": "stream",
     "text": [
      "Tiago        8.0\n",
      "Guilherme    9.5\n",
      "Juca         6.2\n",
      "dtype: float64\n"
     ]
    }
   ],
   "source": [
    "print(series_notas)"
   ]
  },
  {
   "cell_type": "code",
   "execution_count": 11,
   "metadata": {},
   "outputs": [
    {
     "name": "stdout",
     "output_type": "stream",
     "text": [
      "8.0\n"
     ]
    }
   ],
   "source": [
    "print(series_notas['Tiago'])"
   ]
  },
  {
   "cell_type": "code",
   "execution_count": 13,
   "metadata": {},
   "outputs": [
    {
     "name": "stdout",
     "output_type": "stream",
     "text": [
      "7.8999999999999995\n",
      "8.0\n",
      "count    3.000000\n",
      "mean     7.900000\n",
      "std      1.652271\n",
      "min      6.200000\n",
      "25%      7.100000\n",
      "50%      8.000000\n",
      "75%      8.750000\n",
      "max      9.500000\n",
      "dtype: float64\n"
     ]
    }
   ],
   "source": [
    "print(series_notas.mean())\n",
    "print(series_notas.median())\n",
    "print(series_notas.describe())"
   ]
  }
 ],
 "metadata": {
  "kernelspec": {
   "display_name": "Python 3",
   "language": "python",
   "name": "python3"
  },
  "language_info": {
   "codemirror_mode": {
    "name": "ipython",
    "version": 3
   },
   "file_extension": ".py",
   "mimetype": "text/x-python",
   "name": "python",
   "nbconvert_exporter": "python",
   "pygments_lexer": "ipython3",
   "version": "3.12.3"
  }
 },
 "nbformat": 4,
 "nbformat_minor": 2
}
