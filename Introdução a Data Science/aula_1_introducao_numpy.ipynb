{
 "cells": [
  {
   "cell_type": "markdown",
   "metadata": {},
   "source": [
    "O NumPy é uma biblioteca popular em Python usada principalmente para trabalhar com arrays multidimensionais e funções matemáticas que operam nesses arrays.\n",
    "\n",
    "1. **Arrays NumPy**: Pense em arrays como uma coleção de elementos, semelhante a listas em Python, mas com capacidade de lidar com operações matemáticas de forma eficiente em grandes conjuntos de dados. Os arrays NumPy podem ter uma ou várias dimensões (como uma matriz).\n",
    "\n",
    "2. **Eficiência**: O NumPy é construído em C, o que o torna muito rápido e eficiente em comparação com as listas Python padrão, especialmente quando lidamos com grandes conjuntos de dados.\n",
    "\n",
    "3. **Funcionalidades matemáticas**: O NumPy oferece um conjunto abrangente de funções matemáticas que podem ser aplicadas aos arrays, incluindo operações básicas (como adição, subtração, multiplicação e divisão), funções trigonométricas, operações de álgebra linear, estatísticas e muito mais.\n",
    "\n",
    "4. **Indexação e fatiamento**: Assim como as listas em Python, os arrays NumPy podem ser indexados e fatiados para acessar elementos individuais ou subconjuntos de elementos.\n",
    "\n",
    "5. **Broadcasting**: Essa é uma funcionalidade poderosa do NumPy que permite realizar operações entre arrays de diferentes formas e tamanhos de forma eficiente, estendendo automaticamente os arrays menores para corresponder aos maiores.\n",
    "\n",
    "6. **Integração com outras bibliotecas**: O NumPy é frequentemente usado em conjunto com outras bibliotecas populares de análise de dados em Python, como Pandas, SciPy e Matplotlib, tornando-o parte fundamental do ecossistema de análise de dados em Python.\n",
    "\n",
    "O NumPy é uma biblioteca essencial para qualquer pessoa que trabalhe com computação científica, análise de dados ou aprendizado de máquina em Python, devido à sua eficiência, funcionalidades matemáticas abrangentes e integração com outras bibliotecas populares."
   ]
  },
  {
   "cell_type": "code",
   "execution_count": 1,
   "metadata": {},
   "outputs": [],
   "source": [
    "import numpy as np"
   ]
  },
  {
   "cell_type": "code",
   "execution_count": 2,
   "metadata": {},
   "outputs": [],
   "source": [
    "lista = [1, 2, 3, 4, 5, 6]\n",
    "\n",
    "array = np.array(lista)"
   ]
  },
  {
   "cell_type": "code",
   "execution_count": 3,
   "metadata": {},
   "outputs": [
    {
     "name": "stdout",
     "output_type": "stream",
     "text": [
      "[1, 2, 3, 4, 5, 6]\n",
      "[1 2 3 4 5 6]\n"
     ]
    }
   ],
   "source": [
    "print(lista)\n",
    "print(array)"
   ]
  },
  {
   "cell_type": "code",
   "execution_count": 4,
   "metadata": {},
   "outputs": [
    {
     "name": "stdout",
     "output_type": "stream",
     "text": [
      "<class 'list'>\n",
      "<class 'numpy.ndarray'>\n"
     ]
    }
   ],
   "source": [
    "print(type(lista))\n",
    "print(type(array))"
   ]
  },
  {
   "cell_type": "code",
   "execution_count": 6,
   "metadata": {},
   "outputs": [
    {
     "name": "stdout",
     "output_type": "stream",
     "text": [
      "[0. 0. 0. 0. 0. 0. 0. 0. 0. 0.]\n"
     ]
    }
   ],
   "source": [
    "# Funções Prontas\n",
    "\n",
    "arr_zeros = np.zeros(10)\n",
    "\n",
    "print(arr_zeros)"
   ]
  },
  {
   "cell_type": "code",
   "execution_count": 7,
   "metadata": {},
   "outputs": [
    {
     "name": "stdout",
     "output_type": "stream",
     "text": [
      "1\n"
     ]
    }
   ],
   "source": [
    "print(array[0])"
   ]
  },
  {
   "cell_type": "code",
   "execution_count": 8,
   "metadata": {},
   "outputs": [
    {
     "name": "stdout",
     "output_type": "stream",
     "text": [
      "9\n"
     ]
    }
   ],
   "source": [
    "array[0] = 9\n",
    "\n",
    "print(array[0])"
   ]
  },
  {
   "cell_type": "code",
   "execution_count": 9,
   "metadata": {},
   "outputs": [
    {
     "name": "stdout",
     "output_type": "stream",
     "text": [
      "[[0. 0. 0.]\n",
      " [0. 0. 0.]\n",
      " [0. 0. 0.]\n",
      " [0. 0. 0.]\n",
      " [0. 0. 0.]]\n"
     ]
    }
   ],
   "source": [
    "# Matrizes\n",
    "\n",
    "matriz_zeros = np.zeros((5, 3))\n",
    "\n",
    "print(matriz_zeros)"
   ]
  },
  {
   "cell_type": "code",
   "execution_count": 10,
   "metadata": {},
   "outputs": [],
   "source": [
    "# Operações Matemáticas \n",
    "\n",
    "## Notas de ALunos\n",
    "\n",
    "lista_de_notas = [9.8, 5.6, 7.8, 9.1, 6.5]\n",
    "\n",
    "notas = np.array(lista_de_notas)"
   ]
  },
  {
   "cell_type": "code",
   "execution_count": 17,
   "metadata": {},
   "outputs": [
    {
     "name": "stdout",
     "output_type": "stream",
     "text": [
      "Máximo 9.8\n",
      "Mínimo 5.6\n",
      "Desvio Padrão 1.5628179676469045\n",
      "Média 7.76\n",
      "Posição do Menor 1\n",
      "Posição do Maior 0\n"
     ]
    }
   ],
   "source": [
    "print('Máximo', notas.max())\n",
    "print('Mínimo', notas.min())\n",
    "print('Desvio Padrão', notas.std())\n",
    "print('Média', notas.mean())\n",
    "print('Posição do Menor', notas.argmin())\n",
    "print('Posição do Maior', notas.argmax())"
   ]
  }
 ],
 "metadata": {
  "kernelspec": {
   "display_name": "Python 3",
   "language": "python",
   "name": "python3"
  },
  "language_info": {
   "codemirror_mode": {
    "name": "ipython",
    "version": 3
   },
   "file_extension": ".py",
   "mimetype": "text/x-python",
   "name": "python",
   "nbconvert_exporter": "python",
   "pygments_lexer": "ipython3",
   "version": "3.12.3"
  }
 },
 "nbformat": 4,
 "nbformat_minor": 2
}
