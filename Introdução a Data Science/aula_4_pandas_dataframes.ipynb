{
 "cells": [
  {
   "cell_type": "markdown",
   "metadata": {},
   "source": [
    "### Pandas DataFrames\n",
    "\n",
    "\n",
    "Um **Pandas DataFrame** é uma estrutura de dados bidimensional fornecida pela biblioteca Pandas em Python, semelhante a uma tabela em uma base de dados ou a uma planilha. Aqui estão os principais pontos sobre os DataFrames:\n",
    "\n",
    "1. **Estrutura de Tabela**: Um DataFrame é composto de linhas e colunas. Cada coluna pode conter um tipo diferente de dado (números, strings, datas, etc.), similar a uma tabela de dados.\n",
    "\n",
    "2. **Criação**: Você pode criar um DataFrame a partir de várias fontes, como listas de dicionários, arrays do NumPy, arquivos CSV, bases de dados SQL, entre outros.\n",
    "\n",
    "3. **Rotulação**: As linhas e colunas de um DataFrame têm rótulos (índices e nomes de colunas), o que facilita o acesso e a manipulação dos dados.\n",
    "\n",
    "4. **Manipulação e Análise**: DataFrames suportam uma vasta gama de operações para filtrar, agrupar, transformar e resumir dados. Isso facilita a análise e a preparação de dados para outras tarefas.\n",
    "\n",
    "5. **Integração**: Os DataFrames são bem integrados com outras bibliotecas do ecossistema de ciência de dados em Python, como NumPy, Matplotlib e Scikit-learn.\n",
    "\n",
    "Resumindo, um Pandas DataFrame é uma ferramenta poderosa e versátil para armazenar, manipular e analisar dados tabulares, sendo fundamental para a análise de dados em Python."
   ]
  },
  {
   "cell_type": "code",
   "execution_count": null,
   "metadata": {},
   "outputs": [],
   "source": []
  }
 ],
 "metadata": {
  "language_info": {
   "name": "python"
  }
 },
 "nbformat": 4,
 "nbformat_minor": 2
}
