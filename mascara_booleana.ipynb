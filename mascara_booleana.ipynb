{
 "cells": [
  {
   "cell_type": "markdown",
   "metadata": {},
   "source": [
    "## Máscara Booleana\n",
    "\n",
    "A Máscara Booleana é uma técnica utilizada em Python, especialmente em NumPy, para filtrar dados em arrays baseados em condições lógicas. Ela funciona criando uma expressão lógica que retorna valores True ou False para cada elemento do array, dependendo se a condição é verdadeira ou falsa para esse elemento. Essa expressão lógica é então aplicada como uma máscara para selecionar os elementos do array que atendem à condição, resultando em um novo array contendo apenas os elementos que satisfazem a condição. Isso é útil para filtrar dados com base em condições específicas, facilitando a manipulação e análise de conjuntos de dados em Python."
   ]
  },
  {
   "cell_type": "code",
   "execution_count": null,
   "metadata": {
    "vscode": {
     "languageId": "plaintext"
    }
   },
   "outputs": [],
   "source": []
  }
 ],
 "metadata": {
  "language_info": {
   "name": "python"
  }
 },
 "nbformat": 4,
 "nbformat_minor": 2
}
