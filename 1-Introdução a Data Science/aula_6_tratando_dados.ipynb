{
 "cells": [
  {
   "cell_type": "markdown",
   "metadata": {},
   "source": [
    "### Tratando Dados\n",
    "\n",
    "\n",
    "Tratar dados é o processo de limpar, transformar e preparar dados para análise. Aqui estão os principais aspectos do tratamento de dados:\n",
    "\n",
    "1. **Limpeza de Dados**: Isso envolve identificar e lidar com valores ausentes, duplicados ou inconsistentes nos dados. Isso é importante para garantir que os dados sejam precisos e confiáveis.\n",
    "2. **Transformação de Dados**: Isso inclui converter os dados em um formato adequado para análise, como alterar tipos de dados, renomear colunas, criar novas variáveis ou aplicar funções para extrair informações úteis dos dados existentes.\n",
    "3. **Padronização de Dados**: Isso envolve garantir que os dados estejam em um formato consistente e compatível. Isso pode incluir padronizar unidades de medida, datas ou categorias.\n",
    "4. **Normalização de Dados**: Isso é especialmente importante quando os dados têm escalas diferentes, o que pode distorcer análises. Normalizar os dados significa ajustá-los para uma escala padrão, como valores entre 0 e 1.\n",
    "5. **Manipulação de Valores Ausentes**: Existem várias abordagens para lidar com valores ausentes, como removê-los, preenchê-los com valores médios ou interpolá-los com base em valores existentes.\n",
    "6. **Detecção e Tratamento de Outliers**: Outliers são valores extremos que podem distorcer análises estatísticas. Identificar e lidar com outliers é importante para garantir que as análises sejam robustas e precisas.\n",
    "\n",
    "Em resumo, tratar dados é um passo fundamental no processo de análise de dados. Garante que os dados sejam limpos, consistentes e prontos para análise, permitindo que os analistas extraiam insights valiosos e tomem decisões informadas."
   ]
  },
  {
   "cell_type": "code",
   "execution_count": 4,
   "metadata": {},
   "outputs": [
    {
     "name": "stdout",
     "output_type": "stream",
     "text": [
      "Requirement already satisfied: openpyxl in /Library/Frameworks/Python.framework/Versions/3.12/lib/python3.12/site-packages (3.1.0)\n",
      "Requirement already satisfied: et-xmlfile in /Library/Frameworks/Python.framework/Versions/3.12/lib/python3.12/site-packages (from openpyxl) (1.1.0)\n"
     ]
    }
   ],
   "source": [
    "!pip3 install openpyxl"
   ]
  },
  {
   "cell_type": "code",
   "execution_count": 1,
   "metadata": {},
   "outputs": [],
   "source": [
    "import pandas as pd"
   ]
  },
  {
   "cell_type": "code",
   "execution_count": null,
   "metadata": {},
   "outputs": [],
   "source": [
    "df = pd.read_excel('Sao_paulo.xlsx')"
   ]
  },
  {
   "cell_type": "code",
   "execution_count": null,
   "metadata": {},
   "outputs": [],
   "source": [
    "auxiliar = df.loc[10031]\n",
    "\n",
    "auxiliar"
   ]
  },
  {
   "cell_type": "code",
   "execution_count": 5,
   "metadata": {},
   "outputs": [],
   "source": [
    "def limpa_preco(linha):\n",
    "    linha['price'] = linha['price'].replace('R$ ', '')\n",
    "    linha['price'] = linha['price'].replace('\\n ', '')\n",
    "    linha['price'] = linha['price'].replace('/Mês', '')\n",
    "    linha['price'] = linha['price'].replace('                            ', '')\n",
    "    return linha"
   ]
  },
  {
   "cell_type": "code",
   "execution_count": null,
   "metadata": {},
   "outputs": [],
   "source": [
    "df.apply(lambda x: limpa_preco(x), axis=1)"
   ]
  },
  {
   "cell_type": "code",
   "execution_count": null,
   "metadata": {},
   "outputs": [],
   "source": [
    "def ajusta_alugueis(linha):\n",
    "    linha['price'] = linha['price'].replace('.', '')\n",
    "    preco = int(linha['price'])\n",
    "    if(preco < 10000):\n",
    "        preco = preco * 200\n",
    "    linha['price'] = preco\n",
    "\n",
    "    return linha"
   ]
  },
  {
   "cell_type": "code",
   "execution_count": null,
   "metadata": {},
   "outputs": [],
   "source": [
    "ajusta_alugueis(auxiliar)"
   ]
  },
  {
   "cell_type": "code",
   "execution_count": null,
   "metadata": {},
   "outputs": [],
   "source": [
    "df.apply(lambda x: ajusta_alugueis(x), axis=1)"
   ]
  },
  {
   "cell_type": "markdown",
   "metadata": {},
   "source": [
    "#### Exercício de fixação\n",
    "\n",
    "\n",
    "**Questão 1**\n",
    "\n",
    "Carla, em análise de dados para seu mestrado, recebeu um dataset já tratado de uma pesquisa socioeconômica de bairros nos arredores de sua universidade.\n",
    "Porém, ao abrir o arquivo, percebeu que a média de geladeiras, necessária para seu estudo, não foi calculada, tendo NaN em seu lugar. Então, Carla precisa preencher esses dados faltantes.\n",
    "Como Carla pode preencher os dados faltantes com as respectivas médias?\n",
    "\n",
    "R: **bairros['geladeiras'].fillna(value=mean_value, inplace=True)**"
   ]
  },
  {
   "cell_type": "code",
   "execution_count": null,
   "metadata": {},
   "outputs": [],
   "source": [
    "mean_value = bairros['geladeiras'].mean()\n",
    "bairros['geladeiras'].fillna(value=mean_value, inplace=True)\n"
   ]
  },
  {
   "cell_type": "markdown",
   "metadata": {},
   "source": [
    "**Questão 2**\n",
    "\n",
    "Ao abrir um dataset para tratar dados, você percebeu que algumas colunas não apresentam o texto formatado como desejado.\n",
    "Qual o melhor procedimento a tomar para corrigir o texto dos dados não tratados para o padrão desejado?\n",
    "\n",
    "R: **Definir uma função de correção e usar o pandas.apply**"
   ]
  },
  {
   "cell_type": "code",
   "execution_count": null,
   "metadata": {},
   "outputs": [],
   "source": [
    "import pandas as pd\n",
    "\n",
    "# Suponha que você tenha um DataFrame 'df' com uma coluna 'texto'\n",
    "\n",
    "# Função de correção de texto\n",
    "def corrigir_texto(texto):\n",
    "    # Exemplo de correções: remover espaços extras e transformar em minúsculas\n",
    "    return texto.strip().lower()\n",
    "\n",
    "# Aplicar a função de correção na coluna 'texto'\n",
    "df['texto'] = df['texto'].apply(corrigir_texto)\n",
    "\n",
    "print(df)\n",
    "\n",
    "\n",
    "A melhor abordagem para corrigir o texto dos dados não tratados para o padrão desejado é definir uma função de correção e usar o método `apply` do Pandas. Isso permite aplicar a função de correção a cada elemento da coluna de maneira flexível e eficiente.\n",
    "\n",
    "Portanto, a opção correta seria:\n",
    "\n",
    "```\n",
    "Definir uma função de correção e usar o pandas.apply\n",
    "```\n",
    "\n",
    "Aqui está um exemplo de como isso pode ser feito:\n",
    "\n",
    "```python\n",
    "import pandas as pd\n",
    "\n",
    "# Suponha que você tenha um DataFrame 'df' com uma coluna 'texto'\n",
    "\n",
    "# Função de correção de texto\n",
    "def corrigir_texto(texto):\n",
    "    # Exemplo de correções: remover espaços extras e transformar em minúsculas\n",
    "    return texto.strip().lower()\n",
    "\n",
    "# Aplicar a função de correção na coluna 'texto'\n",
    "df['texto'] = df['texto'].apply(corrigir_texto)\n",
    "\n",
    "print(df)\n",
    "```\n",
    "\n",
    "# Neste exemplo, a função `corrigir_texto` remove espaços extras e transforma o texto em minúsculas. O método `apply` é então usado para aplicar esta função a cada elemento da coluna 'texto'.\n",
    "\n"
   ]
  },
  {
   "cell_type": "code",
   "execution_count": null,
   "metadata": {},
   "outputs": [],
   "source": []
  },
  {
   "cell_type": "code",
   "execution_count": null,
   "metadata": {},
   "outputs": [],
   "source": []
  }
 ],
 "metadata": {
  "kernelspec": {
   "display_name": "Python 3",
   "language": "python",
   "name": "python3"
  },
  "language_info": {
   "codemirror_mode": {
    "name": "ipython",
    "version": 3
   },
   "file_extension": ".py",
   "mimetype": "text/x-python",
   "name": "python",
   "nbconvert_exporter": "python",
   "pygments_lexer": "ipython3",
   "version": "3.12.3"
  }
 },
 "nbformat": 4,
 "nbformat_minor": 2
}
