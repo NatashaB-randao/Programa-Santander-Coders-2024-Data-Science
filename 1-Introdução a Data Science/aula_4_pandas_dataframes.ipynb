{
 "cells": [
  {
   "cell_type": "markdown",
   "metadata": {},
   "source": [
    "### Pandas DataFrames\n",
    "\n",
    "\n",
    "Um **Pandas DataFrame** é uma estrutura de dados bidimensional fornecida pela biblioteca Pandas em Python, semelhante a uma tabela em uma base de dados ou a uma planilha. Aqui estão os principais pontos sobre os DataFrames:\n",
    "\n",
    "1. **Estrutura de Tabela**: Um DataFrame é composto de linhas e colunas. Cada coluna pode conter um tipo diferente de dado (números, strings, datas, etc.), similar a uma tabela de dados.\n",
    "\n",
    "2. **Criação**: Você pode criar um DataFrame a partir de várias fontes, como listas de dicionários, arrays do NumPy, arquivos CSV, bases de dados SQL, entre outros.\n",
    "\n",
    "3. **Rotulação**: As linhas e colunas de um DataFrame têm rótulos (índices e nomes de colunas), o que facilita o acesso e a manipulação dos dados.\n",
    "\n",
    "4. **Manipulação e Análise**: DataFrames suportam uma vasta gama de operações para filtrar, agrupar, transformar e resumir dados. Isso facilita a análise e a preparação de dados para outras tarefas.\n",
    "\n",
    "5. **Integração**: Os DataFrames são bem integrados com outras bibliotecas do ecossistema de ciência de dados em Python, como NumPy, Matplotlib e Scikit-learn.\n",
    "\n",
    "Resumindo, um Pandas DataFrame é uma ferramenta poderosa e versátil para armazenar, manipular e analisar dados tabulares, sendo fundamental para a análise de dados em Python."
   ]
  },
  {
   "cell_type": "code",
   "execution_count": 36,
   "metadata": {},
   "outputs": [],
   "source": [
    "import pandas as pd"
   ]
  },
  {
   "cell_type": "code",
   "execution_count": 37,
   "metadata": {},
   "outputs": [],
   "source": [
    "# Cria um dicionário com autores, preços e títulos\n",
    "\n",
    "dictionary = {'Autores': ['Rick Riordan', 'J . R. R Tolkien', 'Rick Riordan', 'Machado de Assis'],\n",
    "            'Titulos': ['O Ladrão de Raios', 'A Sociedade do Anel', 'Mar de Monstros', 'Memórias Postumas de Brás Cubas'],\n",
    "            'Preços': [41.2, 35.7, 39.5, 40.5]}"
   ]
  },
  {
   "cell_type": "code",
   "execution_count": 38,
   "metadata": {},
   "outputs": [
    {
     "data": {
      "text/html": [
       "<div>\n",
       "<style scoped>\n",
       "    .dataframe tbody tr th:only-of-type {\n",
       "        vertical-align: middle;\n",
       "    }\n",
       "\n",
       "    .dataframe tbody tr th {\n",
       "        vertical-align: top;\n",
       "    }\n",
       "\n",
       "    .dataframe thead th {\n",
       "        text-align: right;\n",
       "    }\n",
       "</style>\n",
       "<table border=\"1\" class=\"dataframe\">\n",
       "  <thead>\n",
       "    <tr style=\"text-align: right;\">\n",
       "      <th></th>\n",
       "      <th>Autores</th>\n",
       "      <th>Titulos</th>\n",
       "      <th>Preços</th>\n",
       "    </tr>\n",
       "  </thead>\n",
       "  <tbody>\n",
       "    <tr>\n",
       "      <th>0</th>\n",
       "      <td>Rick Riordan</td>\n",
       "      <td>O Ladrão de Raios</td>\n",
       "      <td>41.2</td>\n",
       "    </tr>\n",
       "    <tr>\n",
       "      <th>1</th>\n",
       "      <td>J . R. R Tolkien</td>\n",
       "      <td>A Sociedade do Anel</td>\n",
       "      <td>35.7</td>\n",
       "    </tr>\n",
       "    <tr>\n",
       "      <th>2</th>\n",
       "      <td>Rick Riordan</td>\n",
       "      <td>Mar de Monstros</td>\n",
       "      <td>39.5</td>\n",
       "    </tr>\n",
       "    <tr>\n",
       "      <th>3</th>\n",
       "      <td>Machado de Assis</td>\n",
       "      <td>Memórias Postumas de Brás Cubas</td>\n",
       "      <td>40.5</td>\n",
       "    </tr>\n",
       "  </tbody>\n",
       "</table>\n",
       "</div>"
      ],
      "text/plain": [
       "            Autores                          Titulos  Preços\n",
       "0      Rick Riordan                O Ladrão de Raios    41.2\n",
       "1  J . R. R Tolkien              A Sociedade do Anel    35.7\n",
       "2      Rick Riordan                  Mar de Monstros    39.5\n",
       "3  Machado de Assis  Memórias Postumas de Brás Cubas    40.5"
      ]
     },
     "execution_count": 38,
     "metadata": {},
     "output_type": "execute_result"
    }
   ],
   "source": [
    "# DataFrame\n",
    "\n",
    "df = pd.DataFrame(dictionary)\n",
    "\n",
    "df"
   ]
  },
  {
   "cell_type": "code",
   "execution_count": 39,
   "metadata": {},
   "outputs": [
    {
     "data": {
      "text/plain": [
       "0        Rick Riordan\n",
       "1    J . R. R Tolkien\n",
       "2        Rick Riordan\n",
       "3    Machado de Assis\n",
       "Name: Autores, dtype: object"
      ]
     },
     "execution_count": 39,
     "metadata": {},
     "output_type": "execute_result"
    }
   ],
   "source": [
    "df['Autores']"
   ]
  },
  {
   "cell_type": "code",
   "execution_count": 40,
   "metadata": {},
   "outputs": [
    {
     "data": {
      "text/plain": [
       "'J . R. R Tolkien'"
      ]
     },
     "execution_count": 40,
     "metadata": {},
     "output_type": "execute_result"
    }
   ],
   "source": [
    "df['Autores'][1]"
   ]
  },
  {
   "cell_type": "code",
   "execution_count": 41,
   "metadata": {},
   "outputs": [
    {
     "data": {
      "text/plain": [
       "39.225"
      ]
     },
     "execution_count": 41,
     "metadata": {},
     "output_type": "execute_result"
    }
   ],
   "source": [
    "df['Preços'].mean()"
   ]
  },
  {
   "cell_type": "code",
   "execution_count": 42,
   "metadata": {},
   "outputs": [],
   "source": [
    "mascara = (df['Autores'] == 'Rick Riordan')"
   ]
  },
  {
   "cell_type": "code",
   "execution_count": 43,
   "metadata": {},
   "outputs": [
    {
     "name": "stdout",
     "output_type": "stream",
     "text": [
      "0     True\n",
      "1    False\n",
      "2     True\n",
      "3    False\n",
      "Name: Autores, dtype: bool\n"
     ]
    },
    {
     "data": {
      "text/html": [
       "<div>\n",
       "<style scoped>\n",
       "    .dataframe tbody tr th:only-of-type {\n",
       "        vertical-align: middle;\n",
       "    }\n",
       "\n",
       "    .dataframe tbody tr th {\n",
       "        vertical-align: top;\n",
       "    }\n",
       "\n",
       "    .dataframe thead th {\n",
       "        text-align: right;\n",
       "    }\n",
       "</style>\n",
       "<table border=\"1\" class=\"dataframe\">\n",
       "  <thead>\n",
       "    <tr style=\"text-align: right;\">\n",
       "      <th></th>\n",
       "      <th>Autores</th>\n",
       "      <th>Titulos</th>\n",
       "      <th>Preços</th>\n",
       "    </tr>\n",
       "  </thead>\n",
       "  <tbody>\n",
       "    <tr>\n",
       "      <th>0</th>\n",
       "      <td>Rick Riordan</td>\n",
       "      <td>O Ladrão de Raios</td>\n",
       "      <td>41.2</td>\n",
       "    </tr>\n",
       "    <tr>\n",
       "      <th>2</th>\n",
       "      <td>Rick Riordan</td>\n",
       "      <td>Mar de Monstros</td>\n",
       "      <td>39.5</td>\n",
       "    </tr>\n",
       "  </tbody>\n",
       "</table>\n",
       "</div>"
      ],
      "text/plain": [
       "        Autores            Titulos  Preços\n",
       "0  Rick Riordan  O Ladrão de Raios    41.2\n",
       "2  Rick Riordan    Mar de Monstros    39.5"
      ]
     },
     "execution_count": 43,
     "metadata": {},
     "output_type": "execute_result"
    }
   ],
   "source": [
    "print(mascara)\n",
    "\n",
    "df[mascara]"
   ]
  },
  {
   "cell_type": "code",
   "execution_count": 44,
   "metadata": {},
   "outputs": [
    {
     "data": {
      "text/html": [
       "<div>\n",
       "<style scoped>\n",
       "    .dataframe tbody tr th:only-of-type {\n",
       "        vertical-align: middle;\n",
       "    }\n",
       "\n",
       "    .dataframe tbody tr th {\n",
       "        vertical-align: top;\n",
       "    }\n",
       "\n",
       "    .dataframe thead th {\n",
       "        text-align: right;\n",
       "    }\n",
       "</style>\n",
       "<table border=\"1\" class=\"dataframe\">\n",
       "  <thead>\n",
       "    <tr style=\"text-align: right;\">\n",
       "      <th></th>\n",
       "      <th>Autores</th>\n",
       "      <th>Titulos</th>\n",
       "      <th>Preços</th>\n",
       "    </tr>\n",
       "  </thead>\n",
       "  <tbody>\n",
       "    <tr>\n",
       "      <th>0</th>\n",
       "      <td>Rick Riordan</td>\n",
       "      <td>O Ladrão de Raios</td>\n",
       "      <td>41.2</td>\n",
       "    </tr>\n",
       "    <tr>\n",
       "      <th>1</th>\n",
       "      <td>J . R. R Tolkien</td>\n",
       "      <td>A Sociedade do Anel</td>\n",
       "      <td>35.7</td>\n",
       "    </tr>\n",
       "    <tr>\n",
       "      <th>2</th>\n",
       "      <td>Rick Riordan</td>\n",
       "      <td>Mar de Monstros</td>\n",
       "      <td>39.5</td>\n",
       "    </tr>\n",
       "    <tr>\n",
       "      <th>3</th>\n",
       "      <td>Machado de Assis</td>\n",
       "      <td>Memórias Postumas de Brás Cubas</td>\n",
       "      <td>40.5</td>\n",
       "    </tr>\n",
       "    <tr>\n",
       "      <th>4</th>\n",
       "      <td>Rick Riordan</td>\n",
       "      <td>A Maldiçã do Titã</td>\n",
       "      <td>40.2</td>\n",
       "    </tr>\n",
       "  </tbody>\n",
       "</table>\n",
       "</div>"
      ],
      "text/plain": [
       "            Autores                          Titulos  Preços\n",
       "0      Rick Riordan                O Ladrão de Raios    41.2\n",
       "1  J . R. R Tolkien              A Sociedade do Anel    35.7\n",
       "2      Rick Riordan                  Mar de Monstros    39.5\n",
       "3  Machado de Assis  Memórias Postumas de Brás Cubas    40.5\n",
       "4      Rick Riordan                A Maldiçã do Titã    40.2"
      ]
     },
     "execution_count": 44,
     "metadata": {},
     "output_type": "execute_result"
    }
   ],
   "source": [
    "# Novo dado a ser adicionado\n",
    "novo_livro = pd.DataFrame([{'Autores': 'Rick Riordan', 'Titulos': 'A Maldiçã do Titã', 'Preços': 40.20}])\n",
    "\n",
    "# Usando concat para adicionar a nova linha\n",
    "df = pd.concat([df, novo_livro], ignore_index=True)\n",
    "\n",
    "df\n"
   ]
  },
  {
   "cell_type": "code",
   "execution_count": 45,
   "metadata": {},
   "outputs": [],
   "source": [
    "mascara_correcao = df['Titulos'] == 'A Maldiçã do Titã'"
   ]
  },
  {
   "cell_type": "code",
   "execution_count": 47,
   "metadata": {},
   "outputs": [],
   "source": [
    "df.loc[mascara_correcao, 'Titulos'] = 'A Maldição do Titã'"
   ]
  },
  {
   "cell_type": "code",
   "execution_count": 48,
   "metadata": {},
   "outputs": [
    {
     "data": {
      "text/html": [
       "<div>\n",
       "<style scoped>\n",
       "    .dataframe tbody tr th:only-of-type {\n",
       "        vertical-align: middle;\n",
       "    }\n",
       "\n",
       "    .dataframe tbody tr th {\n",
       "        vertical-align: top;\n",
       "    }\n",
       "\n",
       "    .dataframe thead th {\n",
       "        text-align: right;\n",
       "    }\n",
       "</style>\n",
       "<table border=\"1\" class=\"dataframe\">\n",
       "  <thead>\n",
       "    <tr style=\"text-align: right;\">\n",
       "      <th></th>\n",
       "      <th>Autores</th>\n",
       "      <th>Titulos</th>\n",
       "      <th>Preços</th>\n",
       "    </tr>\n",
       "  </thead>\n",
       "  <tbody>\n",
       "    <tr>\n",
       "      <th>0</th>\n",
       "      <td>Rick Riordan</td>\n",
       "      <td>O Ladrão de Raios</td>\n",
       "      <td>41.2</td>\n",
       "    </tr>\n",
       "    <tr>\n",
       "      <th>1</th>\n",
       "      <td>J . R. R Tolkien</td>\n",
       "      <td>A Sociedade do Anel</td>\n",
       "      <td>35.7</td>\n",
       "    </tr>\n",
       "    <tr>\n",
       "      <th>2</th>\n",
       "      <td>Rick Riordan</td>\n",
       "      <td>Mar de Monstros</td>\n",
       "      <td>39.5</td>\n",
       "    </tr>\n",
       "    <tr>\n",
       "      <th>3</th>\n",
       "      <td>Machado de Assis</td>\n",
       "      <td>Memórias Postumas de Brás Cubas</td>\n",
       "      <td>40.5</td>\n",
       "    </tr>\n",
       "    <tr>\n",
       "      <th>4</th>\n",
       "      <td>Rick Riordan</td>\n",
       "      <td>A Maldição do Titã</td>\n",
       "      <td>40.2</td>\n",
       "    </tr>\n",
       "  </tbody>\n",
       "</table>\n",
       "</div>"
      ],
      "text/plain": [
       "            Autores                          Titulos  Preços\n",
       "0      Rick Riordan                O Ladrão de Raios    41.2\n",
       "1  J . R. R Tolkien              A Sociedade do Anel    35.7\n",
       "2      Rick Riordan                  Mar de Monstros    39.5\n",
       "3  Machado de Assis  Memórias Postumas de Brás Cubas    40.5\n",
       "4      Rick Riordan               A Maldição do Titã    40.2"
      ]
     },
     "execution_count": 48,
     "metadata": {},
     "output_type": "execute_result"
    }
   ],
   "source": [
    "df"
   ]
  },
  {
   "cell_type": "markdown",
   "metadata": {},
   "source": [
    "#### Exercícios de Fixação\n",
    "\n",
    "**Questão 1**\n",
    "A lista da Billboard Hot 100 traz as 100 músicas mais populares da semana, com nome da música, artista, posição na última semana, posição na semana atual e semanas consecutivas na lista.\n",
    "Você extraiu esses dados para o dataframe 'billboard_100', que contem as colunas 'artista' e 'musica', e diversos outros dados que você deseja análisar. Como pode fazer para visualizar os nomes das músicas da Taylor Swift contidas na Billboard Hot 100 da semana? (apenas os nomes).\n",
    "\n",
    "R: **billboard_100[billboard_100['artista'] == 'Taylor Swift']['musica']**\n"
   ]
  },
  {
   "cell_type": "code",
   "execution_count": 50,
   "metadata": {},
   "outputs": [],
   "source": [
    "# import pandas as pd\n",
    "\n",
    "# # Supondo que você tenha o DataFrame 'billboard_100' com os dados da Billboard Hot 100\n",
    "\n",
    "# # Filtrando as músicas da Taylor Swift e selecionando apenas os nomes das músicas\n",
    "# musicas_taylor_swift = billboard_100[billboard_100['artista'] == 'Taylor Swift']['musica']\n",
    "\n",
    "# # Exibindo os nomes das músicas da Taylor Swift\n",
    "# print(musicas_taylor_swift)\n"
   ]
  },
  {
   "cell_type": "markdown",
   "metadata": {},
   "source": [
    "**Questão 2**\n",
    "Roberto trabalha com controle de estoque de uma loja de roupas e precisa fazer registros diários no dataframe de produtos, constando código, nome do produto, quantidade em estoque, tamanho e preço.\n",
    "Um dia, chegaram 5 unidades de 'camiseta azul de algodão', tamanho M, vendida por R$60,00 e com código 11.\n",
    "Porém, esse produto ainda não constava no inventário de estoque. Como Roberto pode adicioná-lo ao dataframe de dados?\n",
    "\n",
    "R: **Com o comando produtos.append(11, 'camiseta azul de algodão', 5, 'M', 60.00)**\n"
   ]
  },
  {
   "cell_type": "code",
   "execution_count": null,
   "metadata": {},
   "outputs": [],
   "source": [
    "#produtos = produtos.append({'código': 11, 'nome': 'camiseta azul de algodão', 'quantidade': 5, 'tamanho': 'M', 'preço': 60.00}, ignore_index=True)\n"
   ]
  }
 ],
 "metadata": {
  "kernelspec": {
   "display_name": "Python 3",
   "language": "python",
   "name": "python3"
  },
  "language_info": {
   "codemirror_mode": {
    "name": "ipython",
    "version": 3
   },
   "file_extension": ".py",
   "mimetype": "text/x-python",
   "name": "python",
   "nbconvert_exporter": "python",
   "pygments_lexer": "ipython3",
   "version": "3.12.3"
  }
 },
 "nbformat": 4,
 "nbformat_minor": 2
}
